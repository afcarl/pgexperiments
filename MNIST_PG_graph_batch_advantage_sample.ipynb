{
 "cells": [
  {
   "cell_type": "code",
   "execution_count": 1,
   "metadata": {},
   "outputs": [
    {
     "name": "stderr",
     "output_type": "stream",
     "text": [
      "Using TensorFlow backend.\n"
     ]
    }
   ],
   "source": [
    "import tensorflow as tf\n",
    "config = tf.ConfigProto()\n",
    "config.gpu_options.allow_growth = True\n",
    "session = tf.Session(config=config)\n",
    "\n",
    "import keras\n",
    "from keras.datasets import mnist\n",
    "from keras.models import Sequential\n",
    "from keras.layers import Input, Dense, Dropout\n",
    "from keras.layers import Flatten, Conv2D, MaxPooling2D\n",
    "from keras.losses import sparse_categorical_crossentropy, mse\n",
    "from keras.metrics import sparse_categorical_accuracy\n",
    "from keras.optimizers import Adam\n",
    "from keras import backend as K\n",
    "\n",
    "from keras_utils import SampleMultinomial\n",
    "\n",
    "import numpy as np\n",
    "import matplotlib.pyplot as plt\n",
    "%matplotlib inline"
   ]
  },
  {
   "cell_type": "code",
   "execution_count": 2,
   "metadata": {},
   "outputs": [
    {
     "name": "stdout",
     "output_type": "stream",
     "text": [
      "('x_train shape:', (60000, 28, 28, 1))\n",
      "(60000, 'train samples')\n",
      "(10000, 'test samples')\n"
     ]
    }
   ],
   "source": [
    "num_classes = 10\n",
    "batch_size = 1000\n",
    "epochs = 12\n",
    "\n",
    "(x_train, y_train), (x_test, y_test) = mnist.load_data()\n",
    "\n",
    "# input image dimensions\n",
    "img_rows, img_cols = 28, 28\n",
    "\n",
    "if K.image_data_format() == 'channels_first':\n",
    "    x_train = x_train.reshape(x_train.shape[0], 1, img_rows, img_cols)\n",
    "    x_test = x_test.reshape(x_test.shape[0], 1, img_rows, img_cols)\n",
    "    input_shape = (1, img_rows, img_cols)\n",
    "else:\n",
    "    x_train = x_train.reshape(x_train.shape[0], img_rows, img_cols, 1)\n",
    "    x_test = x_test.reshape(x_test.shape[0], img_rows, img_cols, 1)\n",
    "input_shape = (img_rows, img_cols, 1)\n",
    "\n",
    "x_train = x_train.astype('float32')\n",
    "x_test = x_test.astype('float32')\n",
    "x_train /= 255\n",
    "x_test /= 255\n",
    "print('x_train shape:', x_train.shape)\n",
    "print(x_train.shape[0], 'train samples')\n",
    "print(x_test.shape[0], 'test samples')"
   ]
  },
  {
   "cell_type": "code",
   "execution_count": 3,
   "metadata": {},
   "outputs": [
    {
     "name": "stdout",
     "output_type": "stream",
     "text": [
      "_________________________________________________________________\n",
      "Layer (type)                 Output Shape              Param #   \n",
      "=================================================================\n",
      "conv2d_1 (Conv2D)            (None, 26, 26, 32)        320       \n",
      "_________________________________________________________________\n",
      "conv2d_2 (Conv2D)            (None, 24, 24, 64)        18496     \n",
      "_________________________________________________________________\n",
      "max_pooling2d_1 (MaxPooling2 (None, 12, 12, 64)        0         \n",
      "_________________________________________________________________\n",
      "dropout_1 (Dropout)          (None, 12, 12, 64)        0         \n",
      "_________________________________________________________________\n",
      "flatten_1 (Flatten)          (None, 9216)              0         \n",
      "_________________________________________________________________\n",
      "dense_1 (Dense)              (None, 128)               1179776   \n",
      "_________________________________________________________________\n",
      "dropout_2 (Dropout)          (None, 128)               0         \n",
      "_________________________________________________________________\n",
      "dense_2 (Dense)              (None, 10)                1290      \n",
      "=================================================================\n",
      "Total params: 1,199,882\n",
      "Trainable params: 1,199,882\n",
      "Non-trainable params: 0\n",
      "_________________________________________________________________\n"
     ]
    }
   ],
   "source": [
    "model = Sequential()\n",
    "model.add(Conv2D(32, kernel_size=(3, 3),\n",
    "                 activation='relu',\n",
    "                 input_shape=input_shape))\n",
    "model.add(Conv2D(64, (3, 3), activation='relu'))\n",
    "model.add(MaxPooling2D(pool_size=(2, 2)))\n",
    "model.add(Dropout(0.25))\n",
    "model.add(Flatten())\n",
    "model.add(Dense(128, activation='relu'))\n",
    "model.add(Dropout(0.5))\n",
    "model.add(Dense(num_classes, activation='softmax'))\n",
    "model.summary()"
   ]
  },
  {
   "cell_type": "code",
   "execution_count": 4,
   "metadata": {},
   "outputs": [],
   "source": [
    "samples = SampleMultinomial()(model.output)\n",
    "samples = samples[:, np.newaxis]\n",
    "\n",
    "def my_sparse_categorical_accuracy(y_true, y_pred):\n",
    "    return K.cast(K.equal(y_true, K.cast(y_pred, K.floatx())), K.floatx())\n",
    "\n",
    "def reinforce_loss(y_true, y_pred):\n",
    "    labels = K.argmax(y_pred, axis=-1)\n",
    "    rewards = my_sparse_categorical_accuracy(y_true, samples)\n",
    "    baselines = my_sparse_categorical_accuracy(y_true, labels)\n",
    "    advantages = K.stop_gradient(rewards - baselines)\n",
    "    return advantages * sparse_categorical_crossentropy(samples, y_pred)[:, np.newaxis]\n",
    "\n",
    "model.compile(loss=reinforce_loss, optimizer=Adam(lr=0.001), metrics=['sparse_categorical_accuracy'])"
   ]
  },
  {
   "cell_type": "code",
   "execution_count": 5,
   "metadata": {},
   "outputs": [
    {
     "name": "stdout",
     "output_type": "stream",
     "text": [
      "Train on 60000 samples, validate on 10000 samples\n",
      "Epoch 1/12\n",
      "60000/60000 [==============================] - 15s - loss: 0.0435 - sparse_categorical_accuracy: 0.7128 - val_loss: 0.0129 - val_sparse_categorical_accuracy: 0.9138\n",
      "Epoch 2/12\n",
      "60000/60000 [==============================] - 14s - loss: 0.0176 - sparse_categorical_accuracy: 0.9000 - val_loss: 0.0100 - val_sparse_categorical_accuracy: 0.9476\n",
      "Epoch 3/12\n",
      "60000/60000 [==============================] - 14s - loss: 0.0143 - sparse_categorical_accuracy: 0.9368 - val_loss: 0.0077 - val_sparse_categorical_accuracy: 0.9637\n",
      "Epoch 4/12\n",
      "60000/60000 [==============================] - 14s - loss: 0.0116 - sparse_categorical_accuracy: 0.9511 - val_loss: 0.0064 - val_sparse_categorical_accuracy: 0.9694\n",
      "Epoch 5/12\n",
      "60000/60000 [==============================] - 14s - loss: 0.0092 - sparse_categorical_accuracy: 0.9581 - val_loss: 0.0043 - val_sparse_categorical_accuracy: 0.9750\n",
      "Epoch 6/12\n",
      "60000/60000 [==============================] - 14s - loss: 0.0074 - sparse_categorical_accuracy: 0.9644 - val_loss: 0.0050 - val_sparse_categorical_accuracy: 0.9771\n",
      "Epoch 7/12\n",
      "60000/60000 [==============================] - 14s - loss: 0.0076 - sparse_categorical_accuracy: 0.9676 - val_loss: 0.0032 - val_sparse_categorical_accuracy: 0.9805\n",
      "Epoch 8/12\n",
      "60000/60000 [==============================] - 13s - loss: 0.0064 - sparse_categorical_accuracy: 0.9708 - val_loss: 0.0045 - val_sparse_categorical_accuracy: 0.9816\n",
      "Epoch 9/12\n",
      "60000/60000 [==============================] - 13s - loss: 0.0060 - sparse_categorical_accuracy: 0.9715 - val_loss: 0.0036 - val_sparse_categorical_accuracy: 0.9800\n",
      "Epoch 10/12\n",
      "60000/60000 [==============================] - 14s - loss: 0.0054 - sparse_categorical_accuracy: 0.9738 - val_loss: 0.0027 - val_sparse_categorical_accuracy: 0.9831\n",
      "Epoch 11/12\n",
      "60000/60000 [==============================] - 13s - loss: 0.0054 - sparse_categorical_accuracy: 0.9748 - val_loss: 0.0040 - val_sparse_categorical_accuracy: 0.9845\n",
      "Epoch 12/12\n",
      "60000/60000 [==============================] - 13s - loss: 0.0042 - sparse_categorical_accuracy: 0.9766 - val_loss: 0.0028 - val_sparse_categorical_accuracy: 0.9862\n"
     ]
    }
   ],
   "source": [
    "history = model.fit(x_train, y_train,\n",
    "          batch_size=batch_size,\n",
    "          epochs=epochs,\n",
    "          verbose=1,\n",
    "          validation_data=(x_test, y_test))"
   ]
  },
  {
   "cell_type": "code",
   "execution_count": 6,
   "metadata": {},
   "outputs": [
    {
     "data": {
      "text/plain": [
       "<matplotlib.text.Text at 0x7fd434edb5d0>"
      ]
     },
     "execution_count": 6,
     "metadata": {},
     "output_type": "execute_result"
    },
    {
     "data": {
      "image/png": "[encoded data removed]",
      "text/plain": [
       "<matplotlib.figure.Figure at 0x7fd441952f50>"
      ]
     },
     "metadata": {},
     "output_type": "display_data"
    }
   ],
   "source": [
    "plt.figure(figsize=(16, 6))\n",
    "\n",
    "plt.subplot(1, 2, 1)\n",
    "plt.plot(history.history['loss'])\n",
    "plt.plot(history.history['val_loss'])\n",
    "plt.legend(['training loss', 'validation loss'])\n",
    "plt.title('loss')\n",
    "\n",
    "plt.subplot(1, 2, 2)\n",
    "plt.plot(history.history['sparse_categorical_accuracy'])\n",
    "plt.plot(history.history['val_sparse_categorical_accuracy'])\n",
    "plt.legend(['training accuracy', 'validation accuracy'])\n",
    "plt.title('accuracy')"
   ]
  },
  {
   "cell_type": "code",
   "execution_count": 7,
   "metadata": {},
   "outputs": [
    {
     "name": "stdout",
     "output_type": "stream",
     "text": [
      "('Test accuracy:', 0.98619999999999997)\n"
     ]
    }
   ],
   "source": [
    "score = model.evaluate(x_test, y_test, verbose=0)\n",
    "#print('Test loss:', score[0])\n",
    "print('Test accuracy:', score[1])"
   ]
  },
  {
   "cell_type": "code",
   "execution_count": null,
   "metadata": {},
   "outputs": [],
   "source": []
  }
 ],
 "metadata": {
  "kernelspec": {
   "display_name": "Python 2",
   "language": "python",
   "name": "python2"
  },
  "language_info": {
   "codemirror_mode": {
    "name": "ipython",
    "version": 2
   },
   "file_extension": ".py",
   "mimetype": "text/x-python",
   "name": "python",
   "nbconvert_exporter": "python",
   "pygments_lexer": "ipython2",
   "version": "2.7.14"
  }
 },
 "nbformat": 4,
 "nbformat_minor": 2
}
