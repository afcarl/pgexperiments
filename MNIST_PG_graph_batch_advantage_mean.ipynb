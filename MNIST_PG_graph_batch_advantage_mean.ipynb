{
 "cells": [
  {
   "cell_type": "code",
   "execution_count": 6,
   "metadata": {},
   "outputs": [],
   "source": [
    "import tensorflow as tf\n",
    "config = tf.ConfigProto()\n",
    "config.gpu_options.allow_growth = True\n",
    "session = tf.Session(config=config)\n",
    "\n",
    "import keras\n",
    "from keras.datasets import mnist\n",
    "from keras.models import Sequential\n",
    "from keras.layers import Input, Dense, Dropout\n",
    "from keras.layers import Flatten, Conv2D, MaxPooling2D\n",
    "from keras.losses import sparse_categorical_crossentropy, mse\n",
    "from keras.metrics import sparse_categorical_accuracy\n",
    "from keras.optimizers import Adam\n",
    "from keras import backend as K\n",
    "\n",
    "from keras_utils import SampleMultinomial\n",
    "\n",
    "import numpy as np\n",
    "import matplotlib.pyplot as plt\n",
    "%matplotlib inline"
   ]
  },
  {
   "cell_type": "code",
   "execution_count": 7,
   "metadata": {},
   "outputs": [
    {
     "name": "stdout",
     "output_type": "stream",
     "text": [
      "('x_train shape:', (60000, 28, 28, 1))\n",
      "(60000, 'train samples')\n",
      "(10000, 'test samples')\n"
     ]
    }
   ],
   "source": [
    "num_classes = 10\n",
    "batch_size = 128\n",
    "epochs = 12\n",
    "\n",
    "(x_train, y_train), (x_test, y_test) = mnist.load_data()\n",
    "\n",
    "# input image dimensions\n",
    "img_rows, img_cols = 28, 28\n",
    "\n",
    "if K.image_data_format() == 'channels_first':\n",
    "    x_train = x_train.reshape(x_train.shape[0], 1, img_rows, img_cols)\n",
    "    x_test = x_test.reshape(x_test.shape[0], 1, img_rows, img_cols)\n",
    "    input_shape = (1, img_rows, img_cols)\n",
    "else:\n",
    "    x_train = x_train.reshape(x_train.shape[0], img_rows, img_cols, 1)\n",
    "    x_test = x_test.reshape(x_test.shape[0], img_rows, img_cols, 1)\n",
    "input_shape = (img_rows, img_cols, 1)\n",
    "\n",
    "x_train = x_train.astype('float32')\n",
    "x_test = x_test.astype('float32')\n",
    "x_train /= 255\n",
    "x_test /= 255\n",
    "print('x_train shape:', x_train.shape)\n",
    "print(x_train.shape[0], 'train samples')\n",
    "print(x_test.shape[0], 'test samples')"
   ]
  },
  {
   "cell_type": "code",
   "execution_count": 8,
   "metadata": {},
   "outputs": [
    {
     "name": "stdout",
     "output_type": "stream",
     "text": [
      "_________________________________________________________________\n",
      "Layer (type)                 Output Shape              Param #   \n",
      "=================================================================\n",
      "conv2d_3 (Conv2D)            (None, 26, 26, 32)        320       \n",
      "_________________________________________________________________\n",
      "conv2d_4 (Conv2D)            (None, 24, 24, 64)        18496     \n",
      "_________________________________________________________________\n",
      "max_pooling2d_2 (MaxPooling2 (None, 12, 12, 64)        0         \n",
      "_________________________________________________________________\n",
      "dropout_3 (Dropout)          (None, 12, 12, 64)        0         \n",
      "_________________________________________________________________\n",
      "flatten_2 (Flatten)          (None, 9216)              0         \n",
      "_________________________________________________________________\n",
      "dense_3 (Dense)              (None, 128)               1179776   \n",
      "_________________________________________________________________\n",
      "dropout_4 (Dropout)          (None, 128)               0         \n",
      "_________________________________________________________________\n",
      "dense_4 (Dense)              (None, 10)                1290      \n",
      "=================================================================\n",
      "Total params: 1,199,882\n",
      "Trainable params: 1,199,882\n",
      "Non-trainable params: 0\n",
      "_________________________________________________________________\n"
     ]
    }
   ],
   "source": [
    "model = Sequential()\n",
    "model.add(Conv2D(32, kernel_size=(3, 3),\n",
    "                 activation='relu',\n",
    "                 input_shape=input_shape))\n",
    "model.add(Conv2D(64, (3, 3), activation='relu'))\n",
    "model.add(MaxPooling2D(pool_size=(2, 2)))\n",
    "model.add(Dropout(0.25))\n",
    "model.add(Flatten())\n",
    "model.add(Dense(128, activation='relu'))\n",
    "model.add(Dropout(0.5))\n",
    "model.add(Dense(num_classes, activation='softmax'))\n",
    "model.summary()"
   ]
  },
  {
   "cell_type": "code",
   "execution_count": 9,
   "metadata": {},
   "outputs": [],
   "source": [
    "samples = SampleMultinomial()(model.output)\n",
    "samples = samples[:, np.newaxis]\n",
    "\n",
    "def my_sparse_categorical_accuracy(y_true, y_pred):\n",
    "    return K.cast(K.equal(y_true, K.cast(y_pred, K.floatx())), K.floatx())\n",
    "\n",
    "def reinforce_loss(y_true, y_pred):\n",
    "    labels = K.argmax(y_pred, axis=-1)\n",
    "    rewards = K.mean(my_sparse_categorical_accuracy(y_true, samples))\n",
    "    baselines = K.mean(my_sparse_categorical_accuracy(y_true, labels))\n",
    "    advantages = K.stop_gradient(rewards - baselines)\n",
    "    return advantages * sparse_categorical_crossentropy(samples, y_pred)[:, np.newaxis]\n",
    "\n",
    "model.compile(loss=reinforce_loss, optimizer=Adam(lr=0.001), metrics=['sparse_categorical_accuracy'])"
   ]
  },
  {
   "cell_type": "code",
   "execution_count": 10,
   "metadata": {},
   "outputs": [
    {
     "name": "stdout",
     "output_type": "stream",
     "text": [
      "Train on 60000 samples, validate on 10000 samples\n",
      "Epoch 1/12\n",
      "60000/60000 [==============================] - 17s - loss: 0.0102 - sparse_categorical_accuracy: 0.1174 - val_loss: 0.0225 - val_sparse_categorical_accuracy: 0.1684\n",
      "Epoch 2/12\n",
      "60000/60000 [==============================] - 16s - loss: 0.0054 - sparse_categorical_accuracy: 0.1272 - val_loss: 3.0642e-04 - val_sparse_categorical_accuracy: 0.1243\n",
      "Epoch 3/12\n",
      "60000/60000 [==============================] - 16s - loss: 0.0030 - sparse_categorical_accuracy: 0.1343 - val_loss: 2.9499e-06 - val_sparse_categorical_accuracy: 0.1138\n",
      "Epoch 4/12\n",
      "60000/60000 [==============================] - 16s - loss: 0.0022 - sparse_categorical_accuracy: 0.1413 - val_loss: 1.2248e-04 - val_sparse_categorical_accuracy: 0.1187\n",
      "Epoch 5/12\n",
      "60000/60000 [==============================] - 16s - loss: 3.5270e-04 - sparse_categorical_accuracy: 0.1236 - val_loss: -7.3397e-07 - val_sparse_categorical_accuracy: 0.1135\n",
      "Epoch 6/12\n",
      "60000/60000 [==============================] - 16s - loss: 3.1361e-04 - sparse_categorical_accuracy: 0.1243 - val_loss: 0.0000e+00 - val_sparse_categorical_accuracy: 0.1135\n",
      "Epoch 7/12\n",
      "60000/60000 [==============================] - 16s - loss: 1.7342e-04 - sparse_categorical_accuracy: 0.1209 - val_loss: 0.0000e+00 - val_sparse_categorical_accuracy: 0.1135rse_ - ETA: 4s - loss: 2.0629e-04 - sparse_categorical_accuracy: 0 - ETA: 3s\n",
      "Epoch 8/12\n",
      "60000/60000 [==============================] - 16s - loss: 6.9925e-04 - sparse_categorical_accuracy: 0.1293 - val_loss: 0.0000e+00 - val_sparse_categorical_accuracy: 0.1135\n",
      "Epoch 9/12\n",
      "60000/60000 [==============================] - 16s - loss: 1.7567e-04 - sparse_categorical_accuracy: 0.1209 - val_loss: 0.0000e+00 - val_sparse_categorical_accuracy: 0.11350272e-04 - sparse_categorical_acc - ETA: 5s - loss: 1.935 - ETA: 2s - loss: 1.6496e-04 - sparse_categorical_acc - ETA: 1s - loss: 1.6678e-04 - sparse_categorical_accuracy: - ETA: 0s - loss: 1.6942e-04 - sparse_categorical_accu\n",
      "Epoch 10/12\n",
      "60000/60000 [==============================] - 16s - loss: 2.4280e-04 - sparse_categorical_accuracy: 0.1276 - val_loss: 0.0000e+00 - val_sparse_categorical_accuracy: 0.1135\n",
      "Epoch 11/12\n",
      "60000/60000 [==============================] - 16s - loss: 7.0522e-05 - sparse_categorical_accuracy: 0.1206 - val_loss: 0.0000e+00 - val_sparse_categorical_accuracy: 0.1135ETA: 1s - loss: 7.5306e-05 - sparse_categori\n",
      "Epoch 12/12\n",
      "60000/60000 [==============================] - 16s - loss: 6.7293e-05 - sparse_categorical_accuracy: 0.1237 - val_loss: 0.0000e+00 - val_sparse_categorical_accuracy: 0.1135: 1.7304e-05 - sparse_ca - ETA: 10s - loss: 2.1080e-05 - spars - ETA: 9s - loss: 2.6679e-05 - sparse_categorical_ - ETA: 3s - loss: 7.0242e-05 - spar - ETA: 1s - loss: 6.9499e-05 - sparse_categor\n"
     ]
    }
   ],
   "source": [
    "history = model.fit(x_train, y_train,\n",
    "          batch_size=batch_size,\n",
    "          epochs=epochs,\n",
    "          verbose=1,\n",
    "          validation_data=(x_test, y_test))"
   ]
  },
  {
   "cell_type": "code",
   "execution_count": 11,
   "metadata": {},
   "outputs": [
    {
     "data": {
      "text/plain": [
       "<matplotlib.text.Text at 0x7f81900fc0d0>"
      ]
     },
     "execution_count": 11,
     "metadata": {},
     "output_type": "execute_result"
    },
    {
     "data": {
      "image/png": "[encoded data removed]",
      "text/plain": [
       "<matplotlib.figure.Figure at 0x7f819023af10>"
      ]
     },
     "metadata": {},
     "output_type": "display_data"
    }
   ],
   "source": [
    "plt.figure(figsize=(16, 6))\n",
    "\n",
    "plt.subplot(1, 2, 1)\n",
    "plt.plot(history.history['loss'])\n",
    "plt.plot(history.history['val_loss'])\n",
    "plt.legend(['training loss', 'validation loss'])\n",
    "plt.title('loss')\n",
    "\n",
    "plt.subplot(1, 2, 2)\n",
    "plt.plot(history.history['sparse_categorical_accuracy'])\n",
    "plt.plot(history.history['val_sparse_categorical_accuracy'])\n",
    "plt.legend(['training accuracy', 'validation accuracy'])\n",
    "plt.title('accuracy')"
   ]
  },
  {
   "cell_type": "code",
   "execution_count": 12,
   "metadata": {},
   "outputs": [
    {
     "name": "stdout",
     "output_type": "stream",
     "text": [
      "('Test accuracy:', 0.1135)\n"
     ]
    }
   ],
   "source": [
    "score = model.evaluate(x_test, y_test, verbose=0)\n",
    "#print('Test loss:', score[0])\n",
    "print('Test accuracy:', score[1])"
   ]
  },
  {
   "cell_type": "code",
   "execution_count": null,
   "metadata": {},
   "outputs": [],
   "source": []
  }
 ],
 "metadata": {
  "kernelspec": {
   "display_name": "Python 2",
   "language": "python",
   "name": "python2"
  },
  "language_info": {
   "codemirror_mode": {
    "name": "ipython",
    "version": 2
   },
   "file_extension": ".py",
   "mimetype": "text/x-python",
   "name": "python",
   "nbconvert_exporter": "python",
   "pygments_lexer": "ipython2",
   "version": "2.7.14"
  }
 },
 "nbformat": 4,
 "nbformat_minor": 2
}
