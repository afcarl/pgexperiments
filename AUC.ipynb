{
 "cells": [
  {
   "cell_type": "code",
   "execution_count": 1,
   "metadata": {},
   "outputs": [
    {
     "data": {
      "text/plain": [
       "(10000, 1)"
      ]
     },
     "execution_count": 1,
     "metadata": {},
     "output_type": "execute_result"
    }
   ],
   "source": [
    "import numpy as np\n",
    "\n",
    "num_features = 1\n",
    "loc = 1\n",
    "\n",
    "x_train = np.vstack([np.random.normal(size=(9000, num_features)), np.random.normal(loc=loc, size=(1000, num_features))])\n",
    "x_train.shape"
   ]
  },
  {
   "cell_type": "code",
   "execution_count": 2,
   "metadata": {},
   "outputs": [
    {
     "data": {
      "text/plain": [
       "(10000,)"
      ]
     },
     "execution_count": 2,
     "metadata": {},
     "output_type": "execute_result"
    }
   ],
   "source": [
    "y_train = np.hstack([np.zeros((9000,)), np.ones((1000,))])\n",
    "y_train.shape"
   ]
  },
  {
   "cell_type": "code",
   "execution_count": 3,
   "metadata": {},
   "outputs": [
    {
     "data": {
      "text/plain": [
       "(1000, 1)"
      ]
     },
     "execution_count": 3,
     "metadata": {},
     "output_type": "execute_result"
    }
   ],
   "source": [
    "x_test = np.vstack([np.random.normal(size=(900, num_features)), np.random.normal(loc=loc, size=(100, num_features))])\n",
    "x_test.shape"
   ]
  },
  {
   "cell_type": "code",
   "execution_count": 4,
   "metadata": {},
   "outputs": [
    {
     "data": {
      "text/plain": [
       "(1000,)"
      ]
     },
     "execution_count": 4,
     "metadata": {},
     "output_type": "execute_result"
    }
   ],
   "source": [
    "y_test = np.hstack([np.zeros((900,)), np.ones((100,))])\n",
    "y_test.shape"
   ]
  },
  {
   "cell_type": "code",
   "execution_count": 5,
   "metadata": {},
   "outputs": [
    {
     "name": "stderr",
     "output_type": "stream",
     "text": [
      "Using TensorFlow backend.\n"
     ]
    }
   ],
   "source": [
    "from keras.models import Sequential\n",
    "from keras.layers import Dense\n",
    "import tensorflow as tf\n",
    "import keras.backend as K\n",
    "\n",
    "def auc(y_true, y_pred):\n",
    "    y_true_1 = tf.equal(y_true, 1)\n",
    "    y_true_0 = tf.equal(y_true, 0)\n",
    "    a = tf.boolean_mask(y_pred, y_true_1)\n",
    "    b = tf.boolean_mask(y_pred, y_true_0)\n",
    "    return K.mean(a[None, :] > b[:, None])"
   ]
  },
  {
   "cell_type": "code",
   "execution_count": 6,
   "metadata": {},
   "outputs": [],
   "source": [
    "model = Sequential()\n",
    "#model.add(Dense(100, input_shape=(num_features,), activation='relu'))\n",
    "#model.add(Dense(100, activation='relu'))\n",
    "#model.add(Dense(100, activation='relu'))\n",
    "model.add(Dense(1, input_shape=(num_features,), activation='sigmoid'))\n",
    "\n",
    "model.compile(loss='binary_crossentropy', optimizer='adam', metrics=['accuracy', auc])"
   ]
  },
  {
   "cell_type": "code",
   "execution_count": 7,
   "metadata": {},
   "outputs": [
    {
     "name": "stdout",
     "output_type": "stream",
     "text": [
      "Train on 10000 samples, validate on 1000 samples\n",
      "Epoch 1/10\n",
      "10000/10000 [==============================] - 1s - loss: 0.8556 - acc: 0.5432 - auc: 0.7675 - val_loss: 0.8038 - val_acc: 0.5600 - val_auc: nan\n",
      "Epoch 2/10\n",
      "10000/10000 [==============================] - 0s - loss: 0.7929 - acc: 0.5687 - auc: 0.7723 - val_loss: 0.7452 - val_acc: 0.5870 - val_auc: nan\n",
      "Epoch 3/10\n",
      "10000/10000 [==============================] - 0s - loss: 0.7351 - acc: 0.5971 - auc: 0.7691 - val_loss: 0.6910 - val_acc: 0.6120 - val_auc: nan\n",
      "Epoch 4/10\n",
      "10000/10000 [==============================] - 0s - loss: 0.6819 - acc: 0.6231 - auc: 0.7669 - val_loss: 0.6418 - val_acc: 0.6360 - val_auc: nan\n",
      "Epoch 5/10\n",
      "10000/10000 [==============================] - 0s - loss: 0.6335 - acc: 0.6519 - auc: 0.7706 - val_loss: 0.5971 - val_acc: 0.6700 - val_auc: nan\n",
      "Epoch 6/10\n",
      "10000/10000 [==============================] - 0s - loss: 0.5897 - acc: 0.6819 - auc: 0.7698 - val_loss: 0.5567 - val_acc: 0.6990 - val_auc: nan\n",
      "Epoch 7/10\n",
      "10000/10000 [==============================] - 0s - loss: 0.5506 - acc: 0.7173 - auc: 0.7714 - val_loss: 0.5209 - val_acc: 0.7420 - val_auc: nan\n",
      "Epoch 8/10\n",
      "10000/10000 [==============================] - 0s - loss: 0.5161 - acc: 0.7508 - auc: 0.7678 - val_loss: 0.4896 - val_acc: 0.7780 - val_auc: nan\n",
      "Epoch 9/10\n",
      "10000/10000 [==============================] - 0s - loss: 0.4859 - acc: 0.7831 - auc: 0.7648 - val_loss: 0.4625 - val_acc: 0.8020 - val_auc: nan\n",
      "Epoch 10/10\n",
      "10000/10000 [==============================] - 0s - loss: 0.4596 - acc: 0.8178 - auc: 0.7702 - val_loss: 0.4388 - val_acc: 0.8300 - val_auc: nan\n"
     ]
    },
    {
     "data": {
      "text/plain": [
       "<keras.callbacks.History at 0x7f887b32a450>"
      ]
     },
     "execution_count": 7,
     "metadata": {},
     "output_type": "execute_result"
    }
   ],
   "source": [
    "model.fit(x_train, y_train, batch_size=100, epochs=10, validation_data=(x_test, y_test))"
   ]
  },
  {
   "cell_type": "code",
   "execution_count": 8,
   "metadata": {},
   "outputs": [
    {
     "data": {
      "text/plain": [
       "array([[783,  53],\n",
       "       [117,  47]])"
      ]
     },
     "execution_count": 8,
     "metadata": {},
     "output_type": "execute_result"
    }
   ],
   "source": [
    "from sklearn.metrics import confusion_matrix\n",
    "\n",
    "y_pred = model.predict(x_test)\n",
    "confusion_matrix(y_pred > 0.5, y_test)"
   ]
  },
  {
   "cell_type": "code",
   "execution_count": 9,
   "metadata": {},
   "outputs": [
    {
     "data": {
      "text/plain": [
       "0.78566666666666674"
      ]
     },
     "execution_count": 9,
     "metadata": {},
     "output_type": "execute_result"
    }
   ],
   "source": [
    "from sklearn.metrics import roc_auc_score\n",
    "\n",
    "roc_auc_score(y_test, y_pred)"
   ]
  },
  {
   "cell_type": "code",
   "execution_count": 10,
   "metadata": {},
   "outputs": [],
   "source": [
    "model = Sequential()\n",
    "#model.add(Dense(100, input_shape=(num_features,), activation='relu'))\n",
    "#model.add(Dense(100, activation='relu'))\n",
    "#model.add(Dense(100, activation='relu'))\n",
    "model.add(Dense(1, input_shape=(num_features,), activation='sigmoid'))\n",
    "\n",
    "model.compile(loss='binary_crossentropy', optimizer='adam', metrics=['accuracy', auc])"
   ]
  },
  {
   "cell_type": "code",
   "execution_count": 11,
   "metadata": {},
   "outputs": [
    {
     "data": {
      "text/plain": [
       "array([ 0.55555556,  5.        ])"
      ]
     },
     "execution_count": 11,
     "metadata": {},
     "output_type": "execute_result"
    }
   ],
   "source": [
    "from sklearn.utils.class_weight import compute_class_weight\n",
    "\n",
    "class_weight = compute_class_weight(class_weight='balanced', classes=np.unique(y_train), y=y_train)\n",
    "class_weight"
   ]
  },
  {
   "cell_type": "code",
   "execution_count": 12,
   "metadata": {},
   "outputs": [
    {
     "name": "stdout",
     "output_type": "stream",
     "text": [
      "Train on 10000 samples, validate on 1000 samples\n",
      "Epoch 1/10\n",
      "10000/10000 [==============================] - 0s - loss: 0.9343 - acc: 0.4788 - auc: 0.2290 - val_loss: 0.9208 - val_acc: 0.4790 - val_auc: nan\n",
      "Epoch 2/10\n",
      "10000/10000 [==============================] - 0s - loss: 0.8694 - acc: 0.5070 - auc: 0.2288 - val_loss: 0.8559 - val_acc: 0.5060 - val_auc: nan\n",
      "Epoch 3/10\n",
      "10000/10000 [==============================] - 0s - loss: 0.8088 - acc: 0.5383 - auc: 0.2279 - val_loss: 0.7956 - val_acc: 0.5400 - val_auc: nan\n",
      "Epoch 4/10\n",
      "10000/10000 [==============================] - 0s - loss: 0.7527 - acc: 0.5755 - auc: 0.2262 - val_loss: 0.7401 - val_acc: 0.5780 - val_auc: nan\n",
      "Epoch 5/10\n",
      "10000/10000 [==============================] - 0s - loss: 0.7013 - acc: 0.6169 - auc: 0.2353 - val_loss: 0.6893 - val_acc: 0.6160 - val_auc: nan\n",
      "Epoch 6/10\n",
      "10000/10000 [==============================] - 0s - loss: 0.6544 - acc: 0.6644 - auc: 0.2270 - val_loss: 0.6432 - val_acc: 0.6650 - val_auc: nan\n",
      "Epoch 7/10\n",
      "10000/10000 [==============================] - 0s - loss: 0.6121 - acc: 0.7158 - auc: 0.2283 - val_loss: 0.6017 - val_acc: 0.7170 - val_auc: nan\n",
      "Epoch 8/10\n",
      "10000/10000 [==============================] - 0s - loss: 0.5741 - acc: 0.7625 - auc: 0.2306 - val_loss: 0.5646 - val_acc: 0.7890 - val_auc: nan\n",
      "Epoch 9/10\n",
      "10000/10000 [==============================] - 0s - loss: 0.5403 - acc: 0.8134 - auc: 0.2307 - val_loss: 0.5317 - val_acc: 0.8310 - val_auc: nan\n",
      "Epoch 10/10\n",
      "10000/10000 [==============================] - 0s - loss: 0.5104 - acc: 0.8552 - auc: 0.2254 - val_loss: 0.5025 - val_acc: 0.8740 - val_auc: nan\n"
     ]
    },
    {
     "data": {
      "text/plain": [
       "<keras.callbacks.History at 0x7f881ee6f110>"
      ]
     },
     "execution_count": 12,
     "metadata": {},
     "output_type": "execute_result"
    }
   ],
   "source": [
    "model.fit(x_train, y_train, batch_size=100, epochs=10, validation_data=(x_test, y_test), class_weight=class_weight)"
   ]
  },
  {
   "cell_type": "code",
   "execution_count": 13,
   "metadata": {},
   "outputs": [
    {
     "data": {
      "text/plain": [
       "array([[874, 100],\n",
       "       [ 26,   0]])"
      ]
     },
     "execution_count": 13,
     "metadata": {},
     "output_type": "execute_result"
    }
   ],
   "source": [
    "y_pred = model.predict(x_test)\n",
    "confusion_matrix(y_pred > 0.5, y_test)"
   ]
  },
  {
   "cell_type": "code",
   "execution_count": 14,
   "metadata": {},
   "outputs": [
    {
     "data": {
      "text/plain": [
       "0.21433333333333332"
      ]
     },
     "execution_count": 14,
     "metadata": {},
     "output_type": "execute_result"
    }
   ],
   "source": [
    "roc_auc_score(y_test, y_pred)"
   ]
  },
  {
   "cell_type": "code",
   "execution_count": 15,
   "metadata": {},
   "outputs": [],
   "source": [
    "model = Sequential()\n",
    "#model.add(Dense(100, input_shape=(num_features,), activation='relu'))\n",
    "#model.add(Dense(100, activation='relu'))\n",
    "#model.add(Dense(100, activation='relu'))\n",
    "model.add(Dense(1, input_shape=(num_features,), activation='sigmoid'))\n",
    "\n",
    "from utils import sample_binomial\n",
    "from keras.losses import binary_crossentropy\n",
    "\n",
    "def reinforce_loss(y_true, y_pred):\n",
    "    y_samp = sample_binomial(y_pred)\n",
    "    rewards = auc(y_true, y_samp)\n",
    "    baseline = auc(y_true, y_pred)\n",
    "    advantages = rewards - baseline\n",
    "    return advantages * binary_crossentropy(y_samp, y_pred)\n",
    "\n",
    "model.compile(loss=reinforce_loss, optimizer='adam', metrics=['accuracy', auc])"
   ]
  },
  {
   "cell_type": "code",
   "execution_count": 16,
   "metadata": {},
   "outputs": [
    {
     "name": "stdout",
     "output_type": "stream",
     "text": [
      "Train on 10000 samples, validate on 1000 samples\n",
      "Epoch 1/10\n",
      "10000/10000 [==============================] - 0s - loss: -0.0502 - acc: 0.4673 - auc: 0.2265 - val_loss: nan - val_acc: 0.4570 - val_auc: nan\n",
      "Epoch 2/10\n",
      "10000/10000 [==============================] - 0s - loss: -0.0503 - acc: 0.4653 - auc: 0.2302 - val_loss: nan - val_acc: 0.4580 - val_auc: nan\n",
      "Epoch 3/10\n",
      "10000/10000 [==============================] - 0s - loss: -0.0586 - acc: 0.4692 - auc: 0.2335 - val_loss: nan - val_acc: 0.4610 - val_auc: nan\n",
      "Epoch 4/10\n",
      "10000/10000 [==============================] - 0s - loss: -0.0440 - acc: 0.4704 - auc: 0.2323 - val_loss: nan - val_acc: 0.4580 - val_auc: nan\n",
      "Epoch 5/10\n",
      "10000/10000 [==============================] - 0s - loss: -0.0528 - acc: 0.4670 - auc: 0.2282 - val_loss: nan - val_acc: 0.4580 - val_auc: nan\n",
      "Epoch 6/10\n",
      "10000/10000 [==============================] - 0s - loss: -0.0480 - acc: 0.4684 - auc: 0.2270 - val_loss: nan - val_acc: 0.4610 - val_auc: nan\n",
      "Epoch 7/10\n",
      "10000/10000 [==============================] - 0s - loss: -0.0568 - acc: 0.4710 - auc: 0.2307 - val_loss: nan - val_acc: 0.4630 - val_auc: nan\n",
      "Epoch 8/10\n",
      "10000/10000 [==============================] - 0s - loss: -0.0541 - acc: 0.4736 - auc: 0.2289 - val_loss: nan - val_acc: 0.4670 - val_auc: nan\n",
      "Epoch 9/10\n",
      "10000/10000 [==============================] - 0s - loss: -0.0530 - acc: 0.4762 - auc: 0.2295 - val_loss: nan - val_acc: 0.4640 - val_auc: nan\n",
      "Epoch 10/10\n",
      "10000/10000 [==============================] - 0s - loss: -0.0478 - acc: 0.4747 - auc: 0.2258 - val_loss: nan - val_acc: 0.4670 - val_auc: nan\n"
     ]
    },
    {
     "data": {
      "text/plain": [
       "<keras.callbacks.History at 0x7f87e003f0d0>"
      ]
     },
     "execution_count": 16,
     "metadata": {},
     "output_type": "execute_result"
    }
   ],
   "source": [
    "model.fit(x_train, y_train, batch_size=100, epochs=10, validation_data=(x_test, y_test))"
   ]
  },
  {
   "cell_type": "code",
   "execution_count": 17,
   "metadata": {},
   "outputs": [
    {
     "data": {
      "text/plain": [
       "array([[578,  97],\n",
       "       [322,   3]])"
      ]
     },
     "execution_count": 17,
     "metadata": {},
     "output_type": "execute_result"
    }
   ],
   "source": [
    "y_pred = model.predict(x_test)\n",
    "confusion_matrix(y_pred > 0.6, y_test)"
   ]
  },
  {
   "cell_type": "code",
   "execution_count": 18,
   "metadata": {},
   "outputs": [
    {
     "data": {
      "text/plain": [
       "0.21433333333333332"
      ]
     },
     "execution_count": 18,
     "metadata": {},
     "output_type": "execute_result"
    }
   ],
   "source": [
    "roc_auc_score(y_test, y_pred)"
   ]
  },
  {
   "cell_type": "code",
   "execution_count": 19,
   "metadata": {},
   "outputs": [],
   "source": [
    "model = Sequential()\n",
    "#model.add(Dense(100, input_shape=(num_features,), activation='relu'))\n",
    "#model.add(Dense(100, activation='relu'))\n",
    "#model.add(Dense(100, activation='relu'))\n",
    "model.add(Dense(1, input_shape=(num_features,), activation='sigmoid'))\n",
    "\n",
    "def auc_loss(y_true, y_pred):\n",
    "    y_true_1 = tf.equal(y_true[:, 0], 1)\n",
    "    y_true_0 = tf.equal(y_true[:, 0], 0)\n",
    "    prob_1 = tf.boolean_mask(y_pred, y_true_1)\n",
    "    prob_0 = tf.boolean_mask(y_pred, y_true_0)\n",
    "    agtb = tf.cast(prob_1[:, None] > prob_0[None, :], tf.float32)\n",
    "    baseline = tf.reduce_mean(agtb)\n",
    "    rewards_1 = tf.reduce_mean(agtb, axis=1)\n",
    "    rewards_0 = tf.reduce_mean(agtb, axis=0)\n",
    "    advantages_1 = rewards_1 - baseline\n",
    "    advantages_0 = rewards_0 - baseline\n",
    "    return tf.reduce_mean(advantages_1 * -tf.log(prob_1)) + tf.reduce_mean(advantages_0 * tf.log(prob_0))\n",
    "\n",
    "model.compile(loss=auc_loss, optimizer='adam', metrics=['accuracy', auc])"
   ]
  },
  {
   "cell_type": "code",
   "execution_count": 20,
   "metadata": {},
   "outputs": [
    {
     "name": "stdout",
     "output_type": "stream",
     "text": [
      "Train on 10000 samples, validate on 1000 samples\n",
      "Epoch 1/10\n",
      " 2800/10000 [=======>......................] - ETA: 0s - loss: -0.2093 - acc: 0.5264 - auc: 0.7669"
     ]
    },
    {
     "name": "stderr",
     "output_type": "stream",
     "text": [
      "/home/tambet/.conda/envs/robotex/lib/python2.7/site-packages/tensorflow/python/ops/gradients_impl.py:96: UserWarning: Converting sparse IndexedSlices to a dense Tensor of unknown shape. This may consume a large amount of memory.\n",
      "  \"Converting sparse IndexedSlices to a dense Tensor of unknown shape. \"\n"
     ]
    },
    {
     "name": "stdout",
     "output_type": "stream",
     "text": [
      "10000/10000 [==============================] - 0s - loss: -0.2300 - acc: 0.5440 - auc: 0.7676 - val_loss: nan - val_acc: 0.5600 - val_auc: nan\n",
      "Epoch 2/10\n",
      "10000/10000 [==============================] - 0s - loss: -0.2477 - acc: 0.5649 - auc: 0.7739 - val_loss: nan - val_acc: 0.5810 - val_auc: nan\n",
      "Epoch 3/10\n",
      "10000/10000 [==============================] - 0s - loss: -0.2706 - acc: 0.5828 - auc: 0.7704 - val_loss: nan - val_acc: 0.5940 - val_auc: nan\n",
      "Epoch 4/10\n",
      "10000/10000 [==============================] - 0s - loss: -0.2886 - acc: 0.5996 - auc: 0.7738 - val_loss: nan - val_acc: 0.6090 - val_auc: nan\n",
      "Epoch 5/10\n",
      "10000/10000 [==============================] - 0s - loss: -0.3147 - acc: 0.6139 - auc: 0.7698 - val_loss: nan - val_acc: 0.6180 - val_auc: nan\n",
      "Epoch 6/10\n",
      "10000/10000 [==============================] - 0s - loss: -0.3394 - acc: 0.6260 - auc: 0.7697 - val_loss: nan - val_acc: 0.6300 - val_auc: nan\n",
      "Epoch 7/10\n",
      "10000/10000 [==============================] - 0s - loss: -0.3634 - acc: 0.6393 - auc: 0.7736 - val_loss: nan - val_acc: 0.6470 - val_auc: nan\n",
      "Epoch 8/10\n",
      "10000/10000 [==============================] - 0s - loss: -0.3900 - acc: 0.6482 - auc: 0.7707 - val_loss: nan - val_acc: 0.6510 - val_auc: nan\n",
      "Epoch 9/10\n",
      "10000/10000 [==============================] - 0s - loss: -0.4151 - acc: 0.6570 - auc: 0.7724 - val_loss: nan - val_acc: 0.6670 - val_auc: nan\n",
      "Epoch 10/10\n",
      "10000/10000 [==============================] - 0s - loss: -0.4441 - acc: 0.6645 - auc: 0.7714 - val_loss: nan - val_acc: 0.6720 - val_auc: nan\n"
     ]
    },
    {
     "data": {
      "text/plain": [
       "<keras.callbacks.History at 0x7f87db594210>"
      ]
     },
     "execution_count": 20,
     "metadata": {},
     "output_type": "execute_result"
    }
   ],
   "source": [
    "model.fit(x_train, y_train, batch_size=100, epochs=10, validation_data=(x_test, y_test))"
   ]
  },
  {
   "cell_type": "code",
   "execution_count": 21,
   "metadata": {},
   "outputs": [
    {
     "data": {
      "text/plain": [
       "array([[821,  63],\n",
       "       [ 79,  37]])"
      ]
     },
     "execution_count": 21,
     "metadata": {},
     "output_type": "execute_result"
    }
   ],
   "source": [
    "y_pred = model.predict(x_test)\n",
    "confusion_matrix(y_pred > 0.9, y_test)"
   ]
  },
  {
   "cell_type": "code",
   "execution_count": 22,
   "metadata": {},
   "outputs": [
    {
     "data": {
      "text/plain": [
       "0.78566666666666674"
      ]
     },
     "execution_count": 22,
     "metadata": {},
     "output_type": "execute_result"
    }
   ],
   "source": [
    "roc_auc_score(y_test, y_pred)"
   ]
  },
  {
   "cell_type": "code",
   "execution_count": null,
   "metadata": {},
   "outputs": [],
   "source": []
  }
 ],
 "metadata": {
  "kernelspec": {
   "display_name": "Python 2",
   "language": "python",
   "name": "python2"
  },
  "language_info": {
   "codemirror_mode": {
    "name": "ipython",
    "version": 2
   },
   "file_extension": ".py",
   "mimetype": "text/x-python",
   "name": "python",
   "nbconvert_exporter": "python",
   "pygments_lexer": "ipython2",
   "version": "2.7.14"
  }
 },
 "nbformat": 4,
 "nbformat_minor": 2
}
