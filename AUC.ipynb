{
 "cells": [
  {
   "cell_type": "code",
   "execution_count": 1,
   "metadata": {},
   "outputs": [
    {
     "data": {
      "text/plain": [
       "(10000, 1)"
      ]
     },
     "execution_count": 1,
     "metadata": {},
     "output_type": "execute_result"
    }
   ],
   "source": [
    "import numpy as np\n",
    "\n",
    "num_features = 1\n",
    "loc = 1\n",
    "\n",
    "x_train = np.vstack([np.random.normal(size=(9000, num_features)), np.random.normal(loc=loc, size=(1000, num_features))])\n",
    "x_train.shape"
   ]
  },
  {
   "cell_type": "code",
   "execution_count": 2,
   "metadata": {},
   "outputs": [
    {
     "data": {
      "text/plain": [
       "(10000,)"
      ]
     },
     "execution_count": 2,
     "metadata": {},
     "output_type": "execute_result"
    }
   ],
   "source": [
    "y_train = np.hstack([np.zeros((9000,)), np.ones((1000,))])\n",
    "y_train.shape"
   ]
  },
  {
   "cell_type": "code",
   "execution_count": 3,
   "metadata": {},
   "outputs": [
    {
     "data": {
      "text/plain": [
       "(1000, 1)"
      ]
     },
     "execution_count": 3,
     "metadata": {},
     "output_type": "execute_result"
    }
   ],
   "source": [
    "x_test = np.vstack([np.random.normal(size=(900, num_features)), np.random.normal(loc=loc, size=(100, num_features))])\n",
    "x_test.shape"
   ]
  },
  {
   "cell_type": "code",
   "execution_count": 4,
   "metadata": {},
   "outputs": [
    {
     "data": {
      "text/plain": [
       "(1000,)"
      ]
     },
     "execution_count": 4,
     "metadata": {},
     "output_type": "execute_result"
    }
   ],
   "source": [
    "y_test = np.hstack([np.zeros((900,)), np.ones((100,))])\n",
    "y_test.shape"
   ]
  },
  {
   "cell_type": "code",
   "execution_count": 5,
   "metadata": {},
   "outputs": [
    {
     "name": "stderr",
     "output_type": "stream",
     "text": [
      "Using TensorFlow backend.\n"
     ]
    }
   ],
   "source": [
    "from keras.models import Sequential\n",
    "from keras.layers import Dense\n",
    "import tensorflow as tf\n",
    "import keras.backend as K\n",
    "\n",
    "def auc(y_true, y_pred):\n",
    "    y_true_1 = tf.equal(y_true, 1)\n",
    "    y_true_0 = tf.equal(y_true, 0)\n",
    "    a = tf.boolean_mask(y_pred, y_true_1)\n",
    "    b = tf.boolean_mask(y_pred, y_true_0)\n",
    "    return K.mean(a[None, :] > b[:, None])"
   ]
  },
  {
   "cell_type": "code",
   "execution_count": 6,
   "metadata": {},
   "outputs": [],
   "source": [
    "model = Sequential()\n",
    "#model.add(Dense(100, input_shape=(num_features,), activation='relu'))\n",
    "#model.add(Dense(100, activation='relu'))\n",
    "#model.add(Dense(100, activation='relu'))\n",
    "model.add(Dense(1, input_shape=(num_features,), activation='sigmoid'))\n",
    "\n",
    "model.compile(loss='binary_crossentropy', optimizer='adam', metrics=['accuracy', auc])"
   ]
  },
  {
   "cell_type": "code",
   "execution_count": 7,
   "metadata": {},
   "outputs": [
    {
     "name": "stdout",
     "output_type": "stream",
     "text": [
      "Train on 10000 samples, validate on 1000 samples\n",
      "Epoch 1/10\n",
      "10000/10000 [==============================] - 1s - loss: 1.0157 - acc: 0.4778 - auc: 0.2452 - val_loss: 0.9492 - val_acc: 0.5070 - val_auc: nan\n",
      "Epoch 2/10\n",
      "10000/10000 [==============================] - 0s - loss: 0.9485 - acc: 0.5024 - auc: 0.2471 - val_loss: 0.8863 - val_acc: 0.5340 - val_auc: nan\n",
      "Epoch 3/10\n",
      "10000/10000 [==============================] - 0s - loss: 0.8853 - acc: 0.5282 - auc: 0.2445 - val_loss: 0.8278 - val_acc: 0.5540 - val_auc: nan\n",
      "Epoch 4/10\n",
      "10000/10000 [==============================] - 0s - loss: 0.8262 - acc: 0.5571 - auc: 0.2416 - val_loss: 0.7733 - val_acc: 0.5830 - val_auc: nan\n",
      "Epoch 5/10\n",
      "10000/10000 [==============================] - 0s - loss: 0.7711 - acc: 0.5877 - auc: 0.2467 - val_loss: 0.7225 - val_acc: 0.6140 - val_auc: nan\n",
      "Epoch 6/10\n",
      "10000/10000 [==============================] - 0s - loss: 0.7203 - acc: 0.6229 - auc: 0.2442 - val_loss: 0.6761 - val_acc: 0.6500 - val_auc: nan\n",
      "Epoch 7/10\n",
      "10000/10000 [==============================] - 0s - loss: 0.6737 - acc: 0.6588 - auc: 0.2420 - val_loss: 0.6336 - val_acc: 0.6930 - val_auc: nan\n",
      "Epoch 8/10\n",
      "10000/10000 [==============================] - 0s - loss: 0.6312 - acc: 0.7006 - auc: 0.2438 - val_loss: 0.5952 - val_acc: 0.7240 - val_auc: nan\n",
      "Epoch 9/10\n",
      "10000/10000 [==============================] - 0s - loss: 0.5927 - acc: 0.7416 - auc: 0.2398 - val_loss: 0.5605 - val_acc: 0.7620 - val_auc: nan\n",
      "Epoch 10/10\n",
      "10000/10000 [==============================] - 0s - loss: 0.5581 - acc: 0.7819 - auc: 0.2413 - val_loss: 0.5294 - val_acc: 0.8070 - val_auc: nan\n"
     ]
    },
    {
     "data": {
      "text/plain": [
       "<keras.callbacks.History at 0x7ff3e6c14b50>"
      ]
     },
     "execution_count": 7,
     "metadata": {},
     "output_type": "execute_result"
    }
   ],
   "source": [
    "model.fit(x_train, y_train, batch_size=100, epochs=10, validation_data=(x_test, y_test))"
   ]
  },
  {
   "cell_type": "code",
   "execution_count": 8,
   "metadata": {},
   "outputs": [
    {
     "data": {
      "text/plain": [
       "array([[806,  99],\n",
       "       [ 94,   1]])"
      ]
     },
     "execution_count": 8,
     "metadata": {},
     "output_type": "execute_result"
    }
   ],
   "source": [
    "from sklearn.metrics import confusion_matrix\n",
    "\n",
    "y_pred = model.predict(x_test)\n",
    "confusion_matrix(y_pred > 0.5, y_test)"
   ]
  },
  {
   "cell_type": "code",
   "execution_count": 9,
   "metadata": {},
   "outputs": [
    {
     "data": {
      "text/plain": [
       "0.27083333333333337"
      ]
     },
     "execution_count": 9,
     "metadata": {},
     "output_type": "execute_result"
    }
   ],
   "source": [
    "from sklearn.metrics import roc_auc_score\n",
    "\n",
    "roc_auc_score(y_test, y_pred)"
   ]
  },
  {
   "cell_type": "code",
   "execution_count": 10,
   "metadata": {},
   "outputs": [],
   "source": [
    "model = Sequential()\n",
    "#model.add(Dense(100, input_shape=(num_features,), activation='relu'))\n",
    "#model.add(Dense(100, activation='relu'))\n",
    "#model.add(Dense(100, activation='relu'))\n",
    "model.add(Dense(1, input_shape=(num_features,), activation='sigmoid'))\n",
    "\n",
    "model.compile(loss='binary_crossentropy', optimizer='adam', metrics=['accuracy', auc])"
   ]
  },
  {
   "cell_type": "code",
   "execution_count": 11,
   "metadata": {},
   "outputs": [
    {
     "data": {
      "text/plain": [
       "array([ 0.55555556,  5.        ])"
      ]
     },
     "execution_count": 11,
     "metadata": {},
     "output_type": "execute_result"
    }
   ],
   "source": [
    "from sklearn.utils.class_weight import compute_class_weight\n",
    "\n",
    "class_weight = compute_class_weight(class_weight='balanced', classes=np.unique(y_train), y=y_train)\n",
    "class_weight"
   ]
  },
  {
   "cell_type": "code",
   "execution_count": 12,
   "metadata": {},
   "outputs": [
    {
     "name": "stdout",
     "output_type": "stream",
     "text": [
      "Train on 10000 samples, validate on 1000 samples\n",
      "Epoch 1/10\n",
      "10000/10000 [==============================] - 0s - loss: 0.6780 - acc: 0.5749 - auc: 0.7575 - val_loss: 0.6615 - val_acc: 0.5950 - val_auc: nan\n",
      "Epoch 2/10\n",
      "10000/10000 [==============================] - 0s - loss: 0.6363 - acc: 0.6595 - auc: 0.7507 - val_loss: 0.6221 - val_acc: 0.6870 - val_auc: nan\n",
      "Epoch 3/10\n",
      "10000/10000 [==============================] - 0s - loss: 0.6001 - acc: 0.7516 - auc: 0.7607 - val_loss: 0.5877 - val_acc: 0.7910 - val_auc: nan\n",
      "Epoch 4/10\n",
      "10000/10000 [==============================] - 0s - loss: 0.5685 - acc: 0.8336 - auc: 0.7595 - val_loss: 0.5576 - val_acc: 0.8590 - val_auc: nan\n",
      "Epoch 5/10\n",
      "10000/10000 [==============================] - 0s - loss: 0.5404 - acc: 0.8816 - auc: 0.7545 - val_loss: 0.5309 - val_acc: 0.8870 - val_auc: nan\n",
      "Epoch 6/10\n",
      "10000/10000 [==============================] - 0s - loss: 0.5153 - acc: 0.8983 - auc: 0.7534 - val_loss: 0.5070 - val_acc: 0.8930 - val_auc: nan\n",
      "Epoch 7/10\n",
      "10000/10000 [==============================] - 0s - loss: 0.4927 - acc: 0.9036 - auc: 0.7529 - val_loss: 0.4855 - val_acc: 0.8980 - val_auc: nan\n",
      "Epoch 8/10\n",
      "10000/10000 [==============================] - 0s - loss: 0.4722 - acc: 0.9030 - auc: 0.7586 - val_loss: 0.4661 - val_acc: 0.9020 - val_auc: nan\n",
      "Epoch 9/10\n",
      "10000/10000 [==============================] - 0s - loss: 0.4538 - acc: 0.9025 - auc: 0.7542 - val_loss: 0.4487 - val_acc: 0.9020 - val_auc: nan\n",
      "Epoch 10/10\n",
      "10000/10000 [==============================] - 0s - loss: 0.4371 - acc: 0.9024 - auc: 0.7582 - val_loss: 0.4329 - val_acc: 0.9020 - val_auc: nan\n"
     ]
    },
    {
     "data": {
      "text/plain": [
       "<keras.callbacks.History at 0x7ff3d402f0d0>"
      ]
     },
     "execution_count": 12,
     "metadata": {},
     "output_type": "execute_result"
    }
   ],
   "source": [
    "model.fit(x_train, y_train, batch_size=100, epochs=10, validation_data=(x_test, y_test), class_weight=class_weight)"
   ]
  },
  {
   "cell_type": "code",
   "execution_count": 13,
   "metadata": {},
   "outputs": [
    {
     "data": {
      "text/plain": [
       "array([[900,  98],\n",
       "       [  0,   2]])"
      ]
     },
     "execution_count": 13,
     "metadata": {},
     "output_type": "execute_result"
    }
   ],
   "source": [
    "y_pred = model.predict(x_test)\n",
    "confusion_matrix(y_pred > 0.5, y_test)"
   ]
  },
  {
   "cell_type": "code",
   "execution_count": 14,
   "metadata": {},
   "outputs": [
    {
     "data": {
      "text/plain": [
       "0.72916666666666674"
      ]
     },
     "execution_count": 14,
     "metadata": {},
     "output_type": "execute_result"
    }
   ],
   "source": [
    "roc_auc_score(y_test, y_pred)"
   ]
  },
  {
   "cell_type": "code",
   "execution_count": 15,
   "metadata": {},
   "outputs": [],
   "source": [
    "model = Sequential()\n",
    "#model.add(Dense(100, input_shape=(num_features,), activation='relu'))\n",
    "#model.add(Dense(100, activation='relu'))\n",
    "#model.add(Dense(100, activation='relu'))\n",
    "model.add(Dense(1, input_shape=(num_features,), activation='sigmoid'))\n",
    "\n",
    "from utils import sample_binomial\n",
    "from keras.losses import binary_crossentropy\n",
    "\n",
    "def reinforce_loss(y_true, y_pred):\n",
    "    y_samp = sample_binomial(y_pred)\n",
    "    rewards = auc(y_true, y_samp)\n",
    "    baseline = auc(y_true, y_pred)\n",
    "    advantages = rewards - baseline\n",
    "    return advantages * binary_crossentropy(y_samp, y_pred)\n",
    "\n",
    "model.compile(loss=reinforce_loss, optimizer='adam', metrics=['accuracy', auc])"
   ]
  },
  {
   "cell_type": "code",
   "execution_count": 16,
   "metadata": {},
   "outputs": [
    {
     "name": "stdout",
     "output_type": "stream",
     "text": [
      "Train on 10000 samples, validate on 1000 samples\n",
      "Epoch 1/10\n",
      "10000/10000 [==============================] - 0s - loss: -0.0570 - acc: 0.4652 - auc: 0.2452 - val_loss: nan - val_acc: 0.4920 - val_auc: nan\n",
      "Epoch 2/10\n",
      "10000/10000 [==============================] - 0s - loss: -0.0593 - acc: 0.4644 - auc: 0.2471 - val_loss: nan - val_acc: 0.4890 - val_auc: nan\n",
      "Epoch 3/10\n",
      "10000/10000 [==============================] - 0s - loss: -0.0612 - acc: 0.4643 - auc: 0.2443 - val_loss: nan - val_acc: 0.4920 - val_auc: nan\n",
      "Epoch 4/10\n",
      "10000/10000 [==============================] - 0s - loss: -0.0565 - acc: 0.4671 - auc: 0.2401 - val_loss: nan - val_acc: 0.4920 - val_auc: nan\n",
      "Epoch 5/10\n",
      "10000/10000 [==============================] - 0s - loss: -0.0603 - acc: 0.4671 - auc: 0.2470 - val_loss: nan - val_acc: 0.4920 - val_auc: nan\n",
      "Epoch 6/10\n",
      "10000/10000 [==============================] - 0s - loss: -0.0546 - acc: 0.4679 - auc: 0.2420 - val_loss: nan - val_acc: 0.4920 - val_auc: nan\n",
      "Epoch 7/10\n",
      "10000/10000 [==============================] - 0s - loss: -0.0606 - acc: 0.4655 - auc: 0.2465 - val_loss: nan - val_acc: 0.4890 - val_auc: nan\n",
      "Epoch 8/10\n",
      "10000/10000 [==============================] - 0s - loss: -0.0568 - acc: 0.4620 - auc: 0.2442 - val_loss: nan - val_acc: 0.4890 - val_auc: nan\n",
      "Epoch 9/10\n",
      "10000/10000 [==============================] - 0s - loss: -0.0559 - acc: 0.4635 - auc: 0.2451 - val_loss: nan - val_acc: 0.4890 - val_auc: nan\n",
      "Epoch 10/10\n",
      "10000/10000 [==============================] - 0s - loss: -0.0622 - acc: 0.4650 - auc: 0.2518 - val_loss: nan - val_acc: 0.4920 - val_auc: nan\n"
     ]
    },
    {
     "data": {
      "text/plain": [
       "<keras.callbacks.History at 0x7ff38e578210>"
      ]
     },
     "execution_count": 16,
     "metadata": {},
     "output_type": "execute_result"
    }
   ],
   "source": [
    "model.fit(x_train, y_train, batch_size=100, epochs=10, validation_data=(x_test, y_test))"
   ]
  },
  {
   "cell_type": "code",
   "execution_count": 17,
   "metadata": {},
   "outputs": [
    {
     "data": {
      "text/plain": [
       "array([[580,  92],\n",
       "       [320,   8]])"
      ]
     },
     "execution_count": 17,
     "metadata": {},
     "output_type": "execute_result"
    }
   ],
   "source": [
    "y_pred = model.predict(x_test)\n",
    "confusion_matrix(y_pred > 0.6, y_test)"
   ]
  },
  {
   "cell_type": "code",
   "execution_count": 18,
   "metadata": {},
   "outputs": [
    {
     "data": {
      "text/plain": [
       "0.27083333333333337"
      ]
     },
     "execution_count": 18,
     "metadata": {},
     "output_type": "execute_result"
    }
   ],
   "source": [
    "roc_auc_score(y_test, y_pred)"
   ]
  },
  {
   "cell_type": "code",
   "execution_count": 23,
   "metadata": {},
   "outputs": [],
   "source": [
    "model = Sequential()\n",
    "#model.add(Dense(100, input_shape=(num_features,), activation='relu'))\n",
    "#model.add(Dense(100, activation='relu'))\n",
    "#model.add(Dense(100, activation='relu'))\n",
    "model.add(Dense(1, input_shape=(num_features,), activation='sigmoid'))\n",
    "\n",
    "def auc_loss(y_true, y_pred):\n",
    "    y_true_1 = tf.equal(y_true[:, 0], 1)\n",
    "    y_true_0 = tf.equal(y_true[:, 0], 0)\n",
    "    prob_1 = tf.boolean_mask(y_pred, y_true_1)\n",
    "    prob_0 = tf.boolean_mask(y_pred, y_true_0)\n",
    "    agtb = tf.cast(prob_1[:, None] > prob_0[None, :], tf.float32)\n",
    "    baseline = tf.reduce_mean(agtb)\n",
    "    rewards_1 = tf.reduce_mean(agtb, axis=1)\n",
    "    rewards_0 = tf.reduce_mean(agtb, axis=0)\n",
    "    advantages_1 = rewards_1 - baseline\n",
    "    advantages_0 = rewards_0 - baseline\n",
    "    return tf.reduce_mean(advantages_1 * -tf.log(prob_1)) + tf.reduce_mean(advantages_0 * -tf.log(prob_0))\n",
    "\n",
    "model.compile(loss=auc_loss, optimizer='adam', metrics=['accuracy', auc])"
   ]
  },
  {
   "cell_type": "code",
   "execution_count": 24,
   "metadata": {},
   "outputs": [
    {
     "name": "stdout",
     "output_type": "stream",
     "text": [
      "Train on 10000 samples, validate on 1000 samples\n",
      "Epoch 1/10\n",
      "10000/10000 [==============================] - 0s - loss: 0.0013 - acc: 0.5335 - auc: 0.7562 - val_loss: 0.0048 - val_acc: 0.5080 - val_auc: 0.7292\n",
      "Epoch 2/10\n",
      "10000/10000 [==============================] - 0s - loss: 0.0013 - acc: 0.5338 - auc: 0.7562 - val_loss: 0.0048 - val_acc: 0.5080 - val_auc: 0.7292\n",
      "Epoch 3/10\n",
      "10000/10000 [==============================] - 0s - loss: 0.0013 - acc: 0.5342 - auc: 0.7562 - val_loss: 0.0047 - val_acc: 0.5080 - val_auc: 0.7292\n",
      "Epoch 4/10\n",
      "10000/10000 [==============================] - 0s - loss: 0.0012 - acc: 0.5347 - auc: 0.7562 - val_loss: 0.0047 - val_acc: 0.5080 - val_auc: 0.7292\n",
      "Epoch 5/10\n",
      "10000/10000 [==============================] - 0s - loss: 0.0012 - acc: 0.5352 - auc: 0.7562 - val_loss: 0.0047 - val_acc: 0.5090 - val_auc: 0.7292\n",
      "Epoch 6/10\n",
      "10000/10000 [==============================] - 0s - loss: 0.0012 - acc: 0.5355 - auc: 0.7562 - val_loss: 0.0047 - val_acc: 0.5110 - val_auc: 0.7292\n",
      "Epoch 7/10\n",
      "10000/10000 [==============================] - 0s - loss: 0.0012 - acc: 0.5358 - auc: 0.7562 - val_loss: 0.0047 - val_acc: 0.5110 - val_auc: 0.7292\n",
      "Epoch 8/10\n",
      "10000/10000 [==============================] - 0s - loss: 0.0012 - acc: 0.5363 - auc: 0.7562 - val_loss: 0.0046 - val_acc: 0.5110 - val_auc: 0.7292\n",
      "Epoch 9/10\n",
      "10000/10000 [==============================] - 0s - loss: 0.0011 - acc: 0.5368 - auc: 0.7562 - val_loss: 0.0046 - val_acc: 0.5110 - val_auc: 0.7292\n",
      "Epoch 10/10\n",
      "10000/10000 [==============================] - 0s - loss: 0.0011 - acc: 0.5377 - auc: 0.7562 - val_loss: 0.0046 - val_acc: 0.5130 - val_auc: 0.7292\n"
     ]
    },
    {
     "data": {
      "text/plain": [
       "<keras.callbacks.History at 0x7ff38dcfea50>"
      ]
     },
     "execution_count": 24,
     "metadata": {},
     "output_type": "execute_result"
    }
   ],
   "source": [
    "model.fit(x_train, y_train, batch_size=10000, epochs=10, validation_data=(x_test, y_test))"
   ]
  },
  {
   "cell_type": "code",
   "execution_count": 25,
   "metadata": {},
   "outputs": [
    {
     "data": {
      "text/plain": [
       "array([[437,  24],\n",
       "       [463,  76]])"
      ]
     },
     "execution_count": 25,
     "metadata": {},
     "output_type": "execute_result"
    }
   ],
   "source": [
    "y_pred = model.predict(x_test)\n",
    "confusion_matrix(y_pred > 0.5, y_test)"
   ]
  },
  {
   "cell_type": "code",
   "execution_count": 26,
   "metadata": {},
   "outputs": [
    {
     "data": {
      "text/plain": [
       "0.72916666666666674"
      ]
     },
     "execution_count": 26,
     "metadata": {},
     "output_type": "execute_result"
    }
   ],
   "source": [
    "roc_auc_score(y_test, y_pred)"
   ]
  },
  {
   "cell_type": "code",
   "execution_count": null,
   "metadata": {},
   "outputs": [],
   "source": []
  }
 ],
 "metadata": {
  "kernelspec": {
   "display_name": "Python 2",
   "language": "python",
   "name": "python2"
  },
  "language_info": {
   "codemirror_mode": {
    "name": "ipython",
    "version": 2
   },
   "file_extension": ".py",
   "mimetype": "text/x-python",
   "name": "python",
   "nbconvert_exporter": "python",
   "pygments_lexer": "ipython2",
   "version": "2.7.14"
  }
 },
 "nbformat": 4,
 "nbformat_minor": 2
}
