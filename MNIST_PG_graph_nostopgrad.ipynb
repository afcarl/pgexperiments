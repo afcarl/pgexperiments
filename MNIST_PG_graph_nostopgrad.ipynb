{
 "cells": [
  {
   "cell_type": "code",
   "execution_count": 1,
   "metadata": {},
   "outputs": [
    {
     "name": "stderr",
     "output_type": "stream",
     "text": [
      "Using TensorFlow backend.\n"
     ]
    }
   ],
   "source": [
    "import tensorflow as tf\n",
    "config = tf.ConfigProto()\n",
    "config.gpu_options.allow_growth = True\n",
    "session = tf.Session(config=config)\n",
    "\n",
    "import keras\n",
    "from keras.datasets import mnist\n",
    "from keras.models import Model\n",
    "from keras.layers import Input, Dense, Dropout\n",
    "from keras.layers import Flatten, Conv2D, MaxPooling2D\n",
    "from keras.losses import sparse_categorical_crossentropy, mse\n",
    "from keras.metrics import sparse_categorical_accuracy\n",
    "from keras.optimizers import Adam\n",
    "from keras import backend as K\n",
    "\n",
    "from keras_utils import SampleMultinomial\n",
    "\n",
    "import numpy as np\n",
    "import matplotlib.pyplot as plt\n",
    "%matplotlib inline"
   ]
  },
  {
   "cell_type": "code",
   "execution_count": 2,
   "metadata": {},
   "outputs": [],
   "source": [
    "num_classes = 10\n",
    "batch_size = 100\n",
    "epochs = 10\n",
    "stats = []"
   ]
  },
  {
   "cell_type": "code",
   "execution_count": 3,
   "metadata": {},
   "outputs": [],
   "source": [
    "(x_train, y_train), (x_test, y_test) = mnist.load_data()"
   ]
  },
  {
   "cell_type": "code",
   "execution_count": 4,
   "metadata": {},
   "outputs": [],
   "source": [
    "# input image dimensions\n",
    "img_rows, img_cols = 28, 28\n",
    "\n",
    "if K.image_data_format() == 'channels_first':\n",
    "    x_train = x_train.reshape(x_train.shape[0], 1, img_rows, img_cols)\n",
    "    x_test = x_test.reshape(x_test.shape[0], 1, img_rows, img_cols)\n",
    "    input_shape = (1, img_rows, img_cols)\n",
    "else:\n",
    "    x_train = x_train.reshape(x_train.shape[0], img_rows, img_cols, 1)\n",
    "    x_test = x_test.reshape(x_test.shape[0], img_rows, img_cols, 1)\n",
    "input_shape = (img_rows, img_cols, 1)"
   ]
  },
  {
   "cell_type": "code",
   "execution_count": 5,
   "metadata": {},
   "outputs": [
    {
     "name": "stdout",
     "output_type": "stream",
     "text": [
      "('x_train shape:', (60000, 28, 28, 1))\n",
      "(60000, 'train samples')\n",
      "(10000, 'test samples')\n"
     ]
    }
   ],
   "source": [
    "x_train = x_train.astype('float32')\n",
    "x_test = x_test.astype('float32')\n",
    "x_train /= 255\n",
    "x_test /= 255\n",
    "print('x_train shape:', x_train.shape)\n",
    "print(x_train.shape[0], 'train samples')\n",
    "print(x_test.shape[0], 'test samples')"
   ]
  },
  {
   "cell_type": "code",
   "execution_count": 6,
   "metadata": {},
   "outputs": [
    {
     "name": "stdout",
     "output_type": "stream",
     "text": [
      "_________________________________________________________________\n",
      "Layer (type)                 Output Shape              Param #   \n",
      "=================================================================\n",
      "input_1 (InputLayer)         (None, 28, 28, 1)         0         \n",
      "_________________________________________________________________\n",
      "conv2d_1 (Conv2D)            (None, 26, 26, 32)        320       \n",
      "_________________________________________________________________\n",
      "conv2d_2 (Conv2D)            (None, 24, 24, 64)        18496     \n",
      "_________________________________________________________________\n",
      "max_pooling2d_1 (MaxPooling2 (None, 12, 12, 64)        0         \n",
      "_________________________________________________________________\n",
      "dropout_1 (Dropout)          (None, 12, 12, 64)        0         \n",
      "_________________________________________________________________\n",
      "flatten_1 (Flatten)          (None, 9216)              0         \n",
      "_________________________________________________________________\n",
      "dense_1 (Dense)              (None, 128)               1179776   \n",
      "_________________________________________________________________\n",
      "dropout_2 (Dropout)          (None, 128)               0         \n",
      "_________________________________________________________________\n",
      "dense_2 (Dense)              (None, 10)                1290      \n",
      "=================================================================\n",
      "Total params: 1,199,882\n",
      "Trainable params: 1,199,882\n",
      "Non-trainable params: 0\n",
      "_________________________________________________________________\n"
     ]
    }
   ],
   "source": [
    "x = Input(shape=input_shape)\n",
    "h = Conv2D(32, (3, 3), activation='relu')(x)\n",
    "h = Conv2D(64, (3, 3), activation='relu')(h)\n",
    "h = MaxPooling2D(pool_size=(2, 2))(h)\n",
    "h = Dropout(0.25)(h)\n",
    "h = Flatten()(h)\n",
    "h = Dense(128, activation='relu')(h)\n",
    "h = Dropout(0.5)(h)\n",
    "p = Dense(num_classes, activation='softmax')(h)\n",
    "model = Model(x, p)\n",
    "model.summary()"
   ]
  },
  {
   "cell_type": "code",
   "execution_count": 7,
   "metadata": {},
   "outputs": [],
   "source": [
    "s = SampleMultinomial()(p)\n",
    "s = s[:, np.newaxis]\n",
    "#s = K.print_tensor(s, message=\"s: \")\n",
    "#print(\"s.shape:\", s)\n",
    "\n",
    "h = Dense(128, activation='relu')(h)\n",
    "b = Dense(1)(h)\n",
    "#b = K.print_tensor(b, message=\"b: \")\n",
    "#print(\"b.shape:\", b)\n",
    "\n",
    "def my_sparse_categorical_accuracy(y_true, y_pred):\n",
    "    y_pred_cast = K.cast(y_pred, K.floatx())\n",
    "    #y_pred_cast = K.print_tensor(y_pred_cast, message=\"y_pred_argmax_cast: \")\n",
    "    y_equal = K.equal(y_true, y_pred_cast)\n",
    "    #y_equal = K.print_tensor(y_equal, message=\"y_equal: \")\n",
    "    y_equal_cast = K.cast(y_equal, K.floatx())\n",
    "    #y_equal_cast = K.print_tensor(y_equal_cast, message=\"y_equal_cast: \")\n",
    "    return y_equal_cast\n",
    "\n",
    "def reinforce_loss(y_true, y_pred):\n",
    "    r = my_sparse_categorical_accuracy(y_true, s)\n",
    "    #r = K.print_tensor(r, message=\"r: \")\n",
    "    #print(\"r.shape:\", r)\n",
    "\n",
    "    #a = K.stop_gradient(r - b)\n",
    "    a = r - b\n",
    "    #a = K.print_tensor(a, message=\"a: \")\n",
    "    #print(\"a.shape:\", a)\n",
    "\n",
    "    return a * sparse_categorical_crossentropy(s, y_pred)[:, np.newaxis] + mse(r, b)\n",
    "\n",
    "model.compile(loss=reinforce_loss, optimizer=Adam(lr=0.001), metrics=['sparse_categorical_accuracy'])"
   ]
  },
  {
   "cell_type": "code",
   "execution_count": 8,
   "metadata": {},
   "outputs": [
    {
     "name": "stdout",
     "output_type": "stream",
     "text": [
      "Train on 60000 samples, validate on 10000 samples\n",
      "Epoch 1/10\n",
      "60000/60000 [==============================] - 86s - loss: -0.5207 - sparse_categorical_accuracy: 0.5873 - val_loss: -0.0843 - val_sparse_categorical_accuracy: 0.9447\n",
      "Epoch 2/10\n",
      "60000/60000 [==============================] - 85s - loss: -0.0967 - sparse_categorical_accuracy: 0.9180 - val_loss: 0.0187 - val_sparse_categorical_accuracy: 0.9675\n",
      "Epoch 3/10\n",
      "60000/60000 [==============================] - 86s - loss: -0.0421 - sparse_categorical_accuracy: 0.9433 - val_loss: 0.0978 - val_sparse_categorical_accuracy: 0.9752\n",
      "Epoch 4/10\n",
      "60000/60000 [==============================] - 89s - loss: -0.0118 - sparse_categorical_accuracy: 0.9546 - val_loss: 0.0951 - val_sparse_categorical_accuracy: 0.9787\n",
      "Epoch 5/10\n",
      "60000/60000 [==============================] - 87s - loss: 0.0010 - sparse_categorical_accuracy: 0.9596 - val_loss: 0.1033 - val_sparse_categorical_accuracy: 0.9786\n",
      "Epoch 6/10\n",
      "60000/60000 [==============================] - 87s - loss: 0.0063 - sparse_categorical_accuracy: 0.9633 - val_loss: 0.0994 - val_sparse_categorical_accuracy: 0.9829\n",
      "Epoch 7/10\n",
      "60000/60000 [==============================] - 88s - loss: 0.0160 - sparse_categorical_accuracy: 0.9673 - val_loss: 0.1140 - val_sparse_categorical_accuracy: 0.9843\n",
      "Epoch 8/10\n",
      "60000/60000 [==============================] - 93s - loss: 0.0180 - sparse_categorical_accuracy: 0.9702 - val_loss: 0.1461 - val_sparse_categorical_accuracy: 0.9842\n",
      "Epoch 9/10\n",
      "60000/60000 [==============================] - 92s - loss: 0.0213 - sparse_categorical_accuracy: 0.9715 - val_loss: 0.1481 - val_sparse_categorical_accuracy: 0.9847\n",
      "Epoch 10/10\n",
      "60000/60000 [==============================] - 91s - loss: 0.0220 - sparse_categorical_accuracy: 0.9743 - val_loss: 0.1432 - val_sparse_categorical_accuracy: 0.9868\n"
     ]
    },
    {
     "data": {
      "text/plain": [
       "<keras.callbacks.History at 0x7fb20494cd50>"
      ]
     },
     "execution_count": 8,
     "metadata": {},
     "output_type": "execute_result"
    }
   ],
   "source": [
    "model.fit(x_train, y_train,\n",
    "          batch_size=batch_size,\n",
    "          epochs=epochs,\n",
    "          verbose=1,\n",
    "          validation_data=(x_test, y_test))"
   ]
  },
  {
   "cell_type": "code",
   "execution_count": null,
   "metadata": {},
   "outputs": [],
   "source": [
    "npstats = np.array(stats)\n",
    "\n",
    "plt.figure(figsize=(16, 6))\n",
    "\n",
    "plt.subplot(1, 2, 1)\n",
    "#plt.plot(npstats[:, 0])\n",
    "plt.plot(npstats[:, 1])\n",
    "plt.plot(npstats[:, 2])\n",
    "#plt.legend(['total loss', 'policy gradient loss', 'baseline mse loss'])\n",
    "plt.legend(['policy gradient loss', 'baseline mse loss'])\n",
    "plt.title('loss')\n",
    "\n",
    "plt.subplot(1, 2, 2)\n",
    "plt.plot(npstats[:, 3])\n",
    "plt.plot(npstats[:, 4])\n",
    "plt.legend(['batch accuracy', 'baseline mean'])\n",
    "#plt.legend(['batch accuracy'])\n",
    "plt.title('accuracy')"
   ]
  },
  {
   "cell_type": "code",
   "execution_count": 9,
   "metadata": {},
   "outputs": [
    {
     "name": "stdout",
     "output_type": "stream",
     "text": [
      "('Test accuracy:', 0.98680000000000001)\n"
     ]
    }
   ],
   "source": [
    "score = model.evaluate(x_test, y_test, verbose=0)\n",
    "#print('Test loss:', score[0])\n",
    "print('Test accuracy:', score[1])"
   ]
  },
  {
   "cell_type": "code",
   "execution_count": null,
   "metadata": {},
   "outputs": [],
   "source": []
  }
 ],
 "metadata": {
  "kernelspec": {
   "display_name": "Python 2",
   "language": "python",
   "name": "python2"
  },
  "language_info": {
   "codemirror_mode": {
    "name": "ipython",
    "version": 2
   },
   "file_extension": ".py",
   "mimetype": "text/x-python",
   "name": "python",
   "nbconvert_exporter": "python",
   "pygments_lexer": "ipython2",
   "version": "2.7.14"
  }
 },
 "nbformat": 4,
 "nbformat_minor": 2
}
